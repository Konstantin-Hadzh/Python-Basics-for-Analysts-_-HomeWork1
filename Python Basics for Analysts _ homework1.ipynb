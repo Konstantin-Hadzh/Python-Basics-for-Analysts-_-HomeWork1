{
 "cells": [
  {
   "cell_type": "markdown",
   "id": "d4a0c3e4",
   "metadata": {},
   "source": [
    "## Задача 2\n",
    "\n",
    "На складе лежат разные фрукты в разном количестве. Нужно написать функцию, которая на вход принимает любое количество названий фруктов и их количество, а возвращает общее количество фруктов на складе"
   ]
  },
  {
   "cell_type": "code",
   "execution_count": 6,
   "id": "d9a6ca57",
   "metadata": {},
   "outputs": [],
   "source": [
    "def any_fruits(**kwargs):\n",
    "    \n",
    "    all_fruits = sum(kwargs.values())\n",
    "    \n",
    "    return f'общее количество фруктов на складе = {all_fruits}'"
   ]
  },
  {
   "cell_type": "code",
   "execution_count": 9,
   "id": "c9e8b80f",
   "metadata": {},
   "outputs": [
    {
     "name": "stdout",
     "output_type": "stream",
     "text": [
      "общее количество фруктов на складе = 81\n"
     ]
    }
   ],
   "source": [
    "print(any_fruits(pineapple = 3, banana = 5, guava = 7, durian = 9, melon = 12, carambola = 9, mango = 7,\n",
    "                 mandarin = 5, papaya = 3, pomelo = 5, tamarind = 7, jujuba = 9))"
   ]
  },
  {
   "cell_type": "markdown",
   "id": "c66f92fb",
   "metadata": {},
   "source": [
    "## Задача 3"
   ]
  },
  {
   "cell_type": "markdown",
   "id": "4f00478f",
   "metadata": {},
   "source": [
    "Дан список с затратами на рекламу. Но в данных есть ошибки, некоторые затраты имеют отрицательную величину. \n",
    "Удалите такие значения из списка и посчитайте суммарные затраты  [100, 125, -90, 345, 655, -1, 0, 200]  \n",
    "Используйте list comprehensions"
   ]
  },
  {
   "cell_type": "code",
   "execution_count": 33,
   "id": "6ef65cd1",
   "metadata": {},
   "outputs": [],
   "source": [
    "def advertising_costs(data: list):\n",
    "    \n",
    "    new_data = []\n",
    "    \n",
    "    for i in data:\n",
    "        if i > 0:\n",
    "            new_data.append(i)\n",
    "            \n",
    "    print(f'список без отрицательных значений: {new_data}')\n",
    "    print(f'суммарные затрат на рекламу: {sum(new_data)}')"
   ]
  },
  {
   "cell_type": "code",
   "execution_count": 37,
   "id": "8cc883fe",
   "metadata": {},
   "outputs": [],
   "source": [
    "data = [100, 125, -90, 345, 655, -1, 0, 200]"
   ]
  },
  {
   "cell_type": "code",
   "execution_count": 35,
   "id": "5058e4eb",
   "metadata": {},
   "outputs": [
    {
     "name": "stdout",
     "output_type": "stream",
     "text": [
      "список без отрицательных значений: [100, 125, 345, 655, 200]\n",
      "суммарные затрат на рекламу: 1425\n"
     ]
    }
   ],
   "source": [
    "advertising_costs(data)"
   ]
  },
  {
   "cell_type": "markdown",
   "id": "04944690",
   "metadata": {},
   "source": [
    "\n",
    "\n",
    "\n",
    "list comprehensions"
   ]
  },
  {
   "cell_type": "code",
   "execution_count": 39,
   "id": "aececabc",
   "metadata": {},
   "outputs": [
    {
     "name": "stdout",
     "output_type": "stream",
     "text": [
      "список без отрицательных значений:[100, 125, 345, 655, 200]\n"
     ]
    }
   ],
   "source": [
    "print(f'список без отрицательных значений:{[i for i in data if i > 0 ]}')"
   ]
  },
  {
   "cell_type": "code",
   "execution_count": 41,
   "id": "752b7e1a",
   "metadata": {},
   "outputs": [
    {
     "name": "stdout",
     "output_type": "stream",
     "text": [
      "суммарные затрат на рекламу: 1425\n"
     ]
    }
   ],
   "source": [
    "print(f'суммарные затрат на рекламу: {sum([i for i in data if i > 0 ])}')"
   ]
  },
  {
   "cell_type": "markdown",
   "id": "8be60189",
   "metadata": {},
   "source": [
    "## Задача 4 \n",
    "Даны два списка.\n",
    "\n",
    "Дата покупки  ['2021-09-14', '2021-12-15', '2021-09-08', '2021-12-05', '2021-10-09', '2021-09-30', '2021-12-22', '2021-11-29', '2021-12-24', '2021-11-26', '2021-10-27', '2021-12-18', '2021-11-09', '2021-11-23', '2021-09-27', '2021-10-02', '2021-12-27', '2021-09-20', '2021-12-13', '2021-11-01', '2021-11-09', '2021-12-06', '2021-12-08', '2021-10-09', '2021-10-31', '2021-09-30', '2021-11-09', '2021-12-13', '2021-10-26', '2021-12-09']\n",
    "\n",
    "Суммы покупок по датам  [1270, 8413, 9028, 3703, 5739, 4095, 295, 4944, 5723, 3701, 4471, 651, 7037, 4274, 6275, 4988, 6930, 2971, 6592, 2004, 2822, 519, 3406, 2732, 5015, 2008, 316, 6333, 5700, 2887]"
   ]
  },
  {
   "cell_type": "markdown",
   "id": "3c266716",
   "metadata": {},
   "source": [
    "### Подзадача 4.1\n",
    "Найдите, какая выручка у компании в ноябре. \n",
    "Используйте list comprehensions"
   ]
  },
  {
   "cell_type": "code",
   "execution_count": 44,
   "id": "435a1c7f",
   "metadata": {},
   "outputs": [],
   "source": [
    "ymn = ['2021-09-14', '2021-12-15', '2021-09-08', '2021-12-05', '2021-10-09', \n",
    "       '2021-09-30', '2021-12-22', '2021-11-29', '2021-12-24', '2021-11-26', \n",
    "       '2021-10-27', '2021-12-18', '2021-11-09', '2021-11-23', '2021-09-27', \n",
    "       '2021-10-02', '2021-12-27', '2021-09-20', '2021-12-13', '2021-11-01', \n",
    "       '2021-11-09', '2021-12-06', '2021-12-08', '2021-10-09', '2021-10-31', \n",
    "       '2021-09-30', '2021-11-09', '2021-12-13', '2021-10-26', '2021-12-09']\n",
    "total = [1270, 8413, 9028, 3703, 5739, 4095, 295, 4944, 5723, 3701, \n",
    "         4471, 651, 7037, 4274, 6275, 4988, 6930, 2971, 6592, 2004, \n",
    "         2822, 519, 3406, 2732, 5015, 2008, 316, 6333, 5700, 2887] "
   ]
  },
  {
   "cell_type": "code",
   "execution_count": 48,
   "id": "4f368b05",
   "metadata": {},
   "outputs": [],
   "source": [
    "def nov(ymn_1: list, ymn_2: list) -> list:\n",
    "    \n",
    "    new_ymn = []\n",
    "    \n",
    "    for i in range(len(ymn_1)-1):\n",
    "        if '-11-' in ymn_1[i]:\n",
    "            new_ymn.append(ymn_2[i])\n",
    "            \n",
    "    return new_ymn"
   ]
  },
  {
   "cell_type": "code",
   "execution_count": 54,
   "id": "42c4def8",
   "metadata": {},
   "outputs": [
    {
     "name": "stdout",
     "output_type": "stream",
     "text": [
      "выручка компании в ноябре по филиалам: [4944, 3701, 7037, 4274, 2004, 2822, 316]\n",
      "общая выручка компании в ноябре: 25098\n"
     ]
    }
   ],
   "source": [
    "print(f'выручка компании в ноябре по филиалам: {nov(ymn, total)}')\n",
    "print(f'общая выручка компании в ноябре: {sum(nov(ymn, total))}')"
   ]
  },
  {
   "cell_type": "markdown",
   "id": "d1ff95eb",
   "metadata": {},
   "source": [
    "list comprehensions"
   ]
  },
  {
   "cell_type": "code",
   "execution_count": 62,
   "id": "37cb4270",
   "metadata": {},
   "outputs": [
    {
     "name": "stdout",
     "output_type": "stream",
     "text": [
      "выручка компании в ноябре по филиалам: <generator object <genexpr> at 0x10df2f1b0>\n"
     ]
    }
   ],
   "source": [
    "    print(f'выручка компании в ноябре по филиалам: {total[i] for i in range(0, len(ymn)-1) if \"-11\" in ymn[i]}')"
   ]
  },
  {
   "cell_type": "code",
   "execution_count": 64,
   "id": "cbc5d323",
   "metadata": {},
   "outputs": [
    {
     "name": "stdout",
     "output_type": "stream",
     "text": [
      "общая выручка компании в ноябре: 25098\n"
     ]
    }
   ],
   "source": [
    "print(f'общая выручка компании в ноябре: {sum([total[i] for i in range(len(ymn)-1) if \"-11\" in ymn[i]])}')"
   ]
  },
  {
   "cell_type": "markdown",
   "id": "a29110e4",
   "metadata": {},
   "source": [
    "### Подзадача 4.2\n",
    "Найдите выручку компании в зависимости от месяца. Для этого напишите функцию, которая на вход принимает список с датами и список с выручкой, а на выходе словарь, где ключи - это месяцы, а значения - это выручка. Используйте аннотирование типов"
   ]
  },
  {
   "cell_type": "code",
   "execution_count": 65,
   "id": "b9826f37",
   "metadata": {},
   "outputs": [],
   "source": [
    "ymn = ['2021-09-14', '2021-12-15', '2021-09-08', '2021-12-05', '2021-10-09', \n",
    "       '2021-09-30', '2021-12-22', '2021-11-29', '2021-12-24', '2021-11-26', \n",
    "       '2021-10-27', '2021-12-18', '2021-11-09', '2021-11-23', '2021-09-27', \n",
    "       '2021-10-02', '2021-12-27', '2021-09-20', '2021-12-13', '2021-11-01', \n",
    "       '2021-11-09', '2021-12-06', '2021-12-08', '2021-10-09', '2021-10-31', \n",
    "       '2021-09-30', '2021-11-09', '2021-12-13', '2021-10-26', '2021-12-09']\n",
    "total = [1270, 8413, 9028, 3703, 5739, 4095, 295, 4944, 5723, 3701, \n",
    "         4471, 651, 7037, 4274, 6275, 4988, 6930, 2971, 6592, 2004, \n",
    "         2822, 519, 3406, 2732, 5015, 2008, 316, 6333, 5700, 2887]"
   ]
  },
  {
   "cell_type": "code",
   "execution_count": 90,
   "id": "2e6eb8a1",
   "metadata": {},
   "outputs": [
    {
     "name": "stdout",
     "output_type": "stream",
     "text": [
      "{'09': 25647, '12': 45452, '10': 28645, '11': 25098}\n"
     ]
    }
   ],
   "source": [
    "def gain(ymn_1: list, ymn_2: list) -> dict:\n",
    "    \n",
    "    gain = {}\n",
    "    \n",
    "    for i in range(len(ymn_1)):\n",
    "        \n",
    "        if ymn[i].split('-')[1] in gain.keys():\n",
    "            gain[ymn[i].split('-')[1]] += total[i]\n",
    "        else:\n",
    "            gain[ymn[i].split('-')[1]] = total[i]\n",
    "            \n",
    "    return gain\n",
    "\n",
    "print(gain(ymn, total))"
   ]
  },
  {
   "cell_type": "markdown",
   "id": "e52791d8",
   "metadata": {},
   "source": [
    "## Задание 5"
   ]
  },
  {
   "cell_type": "markdown",
   "id": "ebd54590",
   "metadata": {},
   "source": [
    "<img src='http://dsastro.ru/wp-content/uploads/2017/07/2017-05-29-1835_2-L_g4_ap28_pipp.gif'>"
   ]
  },
  {
   "cell_type": "markdown",
   "id": "817595e0",
   "metadata": {},
   "source": [
    "### Транзит Ио и прохождение двух теней от спутников (Европа и Ио) по диску Юпитера\n",
    "Телескоп SW BK 2001 PDS\n",
    "Монтировка Atlas EQ-G\n",
    "Камера ZWO ASI 185MC\n",
    "Фильтр ZWO UV-IR Cut 1.25″\n",
    "Барлоу Deepsky 3x + втулка\n",
    "Ролики по 90 секунд\n",
    "Сложение 900 кадров из 5700 кадров\n",
    "65 кадров в анимации"
   ]
  }
 ],
 "metadata": {
  "kernelspec": {
   "display_name": "Python 3 (ipykernel)",
   "language": "python",
   "name": "python3"
  },
  "language_info": {
   "codemirror_mode": {
    "name": "ipython",
    "version": 3
   },
   "file_extension": ".py",
   "mimetype": "text/x-python",
   "name": "python",
   "nbconvert_exporter": "python",
   "pygments_lexer": "ipython3",
   "version": "3.10.8"
  }
 },
 "nbformat": 4,
 "nbformat_minor": 5
}
